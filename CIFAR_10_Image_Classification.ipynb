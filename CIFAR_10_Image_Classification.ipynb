{
  "cells": [
    {
      "cell_type": "markdown",
      "metadata": {
        "id": "view-in-github",
        "colab_type": "text"
      },
      "source": [
        "<a href=\"https://colab.research.google.com/github/bubinsabu/mnist_digits_classification/blob/main/CIFAR_10_Image_Classification.ipynb\" target=\"_parent\"><img src=\"https://colab.research.google.com/assets/colab-badge.svg\" alt=\"Open In Colab\"/></a>"
      ]
    },
    {
      "cell_type": "markdown",
      "metadata": {
        "id": "Z_T-dHKRPS7P"
      },
      "source": [
        "#Load and Normalize"
      ]
    },
    {
      "cell_type": "code",
      "execution_count": 1,
      "metadata": {
        "id": "2rf_9Kg-PcNS"
      },
      "outputs": [],
      "source": [
        "import numpy as np\n",
        "import matplotlib.pyplot as plt\n",
        "\n",
        "import torch\n",
        "import torch.nn as nn\n",
        "import torch.nn.functional as F\n",
        "import torch.optim as optim\n",
        "import torchvision\n",
        "from torchvision.transforms import transforms\n",
        "import sys"
      ]
    },
    {
      "cell_type": "markdown",
      "metadata": {
        "id": "MW8mvbQm4iWD"
      },
      "source": [
        "# Define Data transformation for Normalisation"
      ]
    },
    {
      "cell_type": "code",
      "execution_count": 2,
      "metadata": {
        "id": "Dxga2kPW4r17"
      },
      "outputs": [],
      "source": [
        "transform = transforms.Compose([\n",
        "    transforms.ToTensor(),\n",
        "    transforms.Normalize(mean = [0.5,0.5,0.5], std = [0.5,0.5,0.5])\n",
        "])"
      ]
    },
    {
      "cell_type": "code",
      "execution_count": 3,
      "metadata": {
        "colab": {
          "base_uri": "https://localhost:8080/"
        },
        "id": "weWnKEsi8Nbd",
        "outputId": "70164088-4ca0-44cb-aada-7fb10318b431"
      },
      "outputs": [
        {
          "output_type": "stream",
          "name": "stdout",
          "text": [
            "Downloading https://www.cs.toronto.edu/~kriz/cifar-10-python.tar.gz to ./data/cifar-10-python.tar.gz\n"
          ]
        },
        {
          "output_type": "stream",
          "name": "stderr",
          "text": [
            "100%|██████████| 170498071/170498071 [00:02<00:00, 80143397.85it/s]\n"
          ]
        },
        {
          "output_type": "stream",
          "name": "stdout",
          "text": [
            "Extracting ./data/cifar-10-python.tar.gz to ./data\n",
            "Files already downloaded and verified\n"
          ]
        }
      ],
      "source": [
        "# load and training CIFAR-10 datasets\n",
        "trainset = torchvision.datasets.CIFAR10(root = \"./data\", train = True, download = True, transform = transform)\n",
        "trainloader = torch.utils.data.DataLoader(trainset, batch_size = 64, shuffle = False)\n",
        "\n",
        "# load and testing CIFAR-10 datasets\n",
        "testset = torchvision.datasets.CIFAR10(root = \"./data\", train = False , download = True, transform = transform)\n",
        "testloader = torch.utils.data.DataLoader(testset, batch_size = 64, shuffle = False)\n",
        "\n",
        "classes = (\"airplane\", \"automobile\", \"bird\", \"car\",\"deer\", \"dog\", \"frog\", \"horse\", \"ship\", \"truck\")"
      ]
    },
    {
      "cell_type": "code",
      "execution_count": 4,
      "metadata": {
        "colab": {
          "base_uri": "https://localhost:8080/"
        },
        "id": "IlfcLBpqB_Xf",
        "outputId": "14aa0861-1729-4a76-a039-ce84e3f606e2"
      },
      "outputs": [
        {
          "output_type": "stream",
          "name": "stdout",
          "text": [
            "Train_Data_Shape:  (50000, 32, 32, 3)\n",
            "Test_Data_Shape:  (10000, 32, 32, 3)\n"
          ]
        }
      ],
      "source": [
        "print(\"Train_Data_Shape: \",trainset.data.shape)\n",
        "print(\"Test_Data_Shape: \",testset.data.shape)"
      ]
    },
    {
      "cell_type": "markdown",
      "metadata": {
        "id": "h142qQxLVD-T"
      },
      "source": [
        "# Define CNN"
      ]
    },
    {
      "cell_type": "code",
      "execution_count": 5,
      "metadata": {
        "id": "Doh7ojPX9UZ3"
      },
      "outputs": [],
      "source": [
        "class Net(nn.Module):\n",
        "  def __init__(self):\n",
        "    super(Net, self).__init__()\n",
        "    self.conv1 = nn.Conv2d(3, 6, 5)\n",
        "    self.pool = nn.MaxPool2d(2, 2)\n",
        "    self.conv2 = nn.Conv2d(6, 16, 5)\n",
        "    self.fc1 = nn.Linear(16 * 5 * 5, 120)\n",
        "    self.fc2 = nn.Linear(120, 84)\n",
        "    self.fc3 = nn.Linear(84,10)\n",
        "\n",
        "  def forward(self, x):\n",
        "    x = self.pool(F.relu(self.conv1(x)))\n",
        "    x = self.pool(F.relu(self.conv2(x)))\n",
        "    x = x.view(-1, 16 * 5 * 5)\n",
        "    x = F.relu(self.fc1(x))\n",
        "    x = F.relu(self.fc2(x))\n",
        "    x = self.fc3(x)\n",
        "    return x\n",
        "\n",
        "net = Net()"
      ]
    },
    {
      "cell_type": "markdown",
      "metadata": {
        "id": "6wIYazP92Qde"
      },
      "source": [
        "# Define Loss Function and Optimizer"
      ]
    },
    {
      "cell_type": "code",
      "execution_count": 6,
      "metadata": {
        "id": "qQspcIpf2bdA"
      },
      "outputs": [],
      "source": [
        "criterion = nn.CrossEntropyLoss()\n",
        "optimizer = optim.SGD(net.parameters(), lr = 0.001, momentum = 0.9)"
      ]
    },
    {
      "cell_type": "markdown",
      "metadata": {
        "id": "njL1A-3K4x8Z"
      },
      "source": [
        "# Train the Model"
      ]
    },
    {
      "cell_type": "code",
      "execution_count": 10,
      "metadata": {
        "id": "liC_QSII41Xd"
      },
      "outputs": [],
      "source": [
        "device = torch.device(\"cuda\" if torch.cuda.is_available() else \"cpu\")\n",
        "net.to(device)\n",
        "\n",
        "for epoch in range(10):\n",
        "  running_loss = 0.0\n",
        "  for i, data in enumerate(trainloader, 0):\n",
        "    inputs, labels = data[0].to(device), data[1].to(device)\n",
        "\n",
        "    optimizer.zero_grad()\n",
        "\n",
        "    outputs = net(inputs)\n",
        "    loss = criterion(outputs, labels)\n",
        "    loss.backward()\n",
        "    optimizer.step()\n",
        "\n",
        "    running_loss += loss.item()\n",
        "    if i % 2000 == 1999:\n",
        "      print(f\"[Epoch {epoch + 1},Iteration {i + 1}]loss:{running_loss / 2000:.3f}\")\n",
        "      running_loss = 0.0\n",
        "      sys.stdout.flush()"
      ]
    },
    {
      "cell_type": "code",
      "source": [
        "print(f\"[Epoch {epoch + 1},Iteration {i + 1}]loss:{running_loss / 2000:.3f}\")"
      ],
      "metadata": {
        "colab": {
          "base_uri": "https://localhost:8080/"
        },
        "id": "-yerhk_tlDcS",
        "outputId": "91be97a5-3464-4e0d-cb93-11cd0e13421f"
      },
      "execution_count": 13,
      "outputs": [
        {
          "output_type": "stream",
          "name": "stdout",
          "text": [
            "[Epoch 10,Iteration 782]loss:0.303\n"
          ]
        }
      ]
    },
    {
      "cell_type": "code",
      "source": [],
      "metadata": {
        "id": "VrHQs6fzlzNA"
      },
      "execution_count": null,
      "outputs": []
    }
  ],
  "metadata": {
    "colab": {
      "provenance": [],
      "authorship_tag": "ABX9TyOtR4VG/2jHPS4FM8g2Swc+",
      "include_colab_link": true
    },
    "kernelspec": {
      "display_name": "Python 3",
      "name": "python3"
    },
    "language_info": {
      "name": "python"
    }
  },
  "nbformat": 4,
  "nbformat_minor": 0
}
